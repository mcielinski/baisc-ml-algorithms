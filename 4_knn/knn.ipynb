{
 "cells": [
  {
   "cell_type": "code",
   "execution_count": 585,
   "metadata": {
    "pycharm": {
     "is_executing": false,
     "name": "#%%\n"
    }
   },
   "outputs": [],
   "source": [
    "import pandas as pd\n",
    "import matplotlib.pyplot as plt\n",
    "import numpy as np\n",
    "import seaborn as sns\n",
    "from scipy import stats\n",
    "\n",
    "from sklearn.metrics import accuracy_score, precision_score, recall_score, f1_score\n",
    "from sklearn.model_selection import train_test_split, KFold, StratifiedKFold, \\\n",
    "                                        cross_val_predict, cross_val_score\n",
    "from sklearn import preprocessing\n",
    "\n",
    "from sklearn.neighbors import KNeighborsClassifier\n",
    "\n",
    "import warnings\n",
    "warnings.filterwarnings('ignore')"
   ]
  },
  {
   "cell_type": "markdown",
   "metadata": {
    "pycharm": {
     "is_executing": false,
     "name": "#%%\n"
    }
   },
   "source": [
    "## Load data"
   ]
  },
  {
   "cell_type": "markdown",
   "metadata": {},
   "source": [
    "### Describe data"
   ]
  },
  {
   "cell_type": "code",
   "execution_count": 586,
   "metadata": {},
   "outputs": [],
   "source": [
    "def describe(data):\n",
    "    transpose = data.transpose()\n",
    "    for column in transpose:\n",
    "        print(stats.describe(column))"
   ]
  },
  {
   "cell_type": "markdown",
   "metadata": {},
   "source": [
    "### Plot data"
   ]
  },
  {
   "cell_type": "code",
   "execution_count": 587,
   "metadata": {},
   "outputs": [],
   "source": [
    "def plot_dataset(dataset, attr='Class'):\n",
    "    columns = dataset.drop(columns=[attr]).columns\n",
    "    fig = sns.FacetGrid(dataset, hue=attr,  height=5, palette=\"bright\") \\\n",
    "        .map(plt.scatter, columns[0], columns[1]).add_legend()"
   ]
  },
  {
   "cell_type": "markdown",
   "metadata": {},
   "source": [
    "### Data Pre-Processing"
   ]
  },
  {
   "cell_type": "code",
   "execution_count": 588,
   "metadata": {},
   "outputs": [],
   "source": [
    "def normalize(data):\n",
    "    min_max_scaler = preprocessing.MinMaxScaler()\n",
    "    return min_max_scaler.fit_transform(data)\n",
    "\n",
    "def standardize(data):\n",
    "    return preprocessing.scale(data)"
   ]
  },
  {
   "cell_type": "markdown",
   "metadata": {},
   "source": [
    "### Iris"
   ]
  },
  {
   "cell_type": "code",
   "execution_count": 589,
   "metadata": {},
   "outputs": [],
   "source": [
    "ds_name = 'Iris'\n",
    "out_path = './out_iris/'\n",
    "iris = pd.read_csv(\"data/iris.data\", sep=\",\")\n",
    "iris_X = iris.drop(columns=['Class']).to_numpy()\n",
    "iris_y = iris['Class'].to_numpy()\n",
    "#plot_dataset(iris, 'Class')\n",
    "\n",
    "#print(\"=== Before pre-process ===\")\n",
    "#describe(iris_X)\n",
    "\n",
    "data_X = normalize(iris_X)\n",
    "#data_X = iris_X\n",
    "data_y = iris_y\n",
    "\n",
    "#print(\"\\n=== After pre-process ===\")\n",
    "#describe(data_X)"
   ]
  },
  {
   "cell_type": "markdown",
   "metadata": {},
   "source": [
    "### Glass"
   ]
  },
  {
   "cell_type": "code",
   "execution_count": 590,
   "metadata": {},
   "outputs": [],
   "source": [
    "ds_name = 'Glass'\n",
    "out_path = './out_glass/'\n",
    "glass = pd.read_csv(\"data/glass.data\", sep=\",\").drop(columns=['Id'])\n",
    "glass_X = glass.drop(columns=['Class']).to_numpy()\n",
    "glass_y = glass['Class'].to_numpy()\n",
    "#plot_dataset(glass, attr='Class')\n",
    "\n",
    "#print(\"=== Before pre-process ===\")\n",
    "#describe(glass_X)\n",
    "\n",
    "data_X = normalize(glass_X)\n",
    "#data_X = glass_X\n",
    "data_y = glass_y\n",
    "\n",
    "#print(\"\\n=== After pre-process ===\")\n",
    "#describe(data_X)"
   ]
  },
  {
   "cell_type": "markdown",
   "metadata": {},
   "source": [
    "### Wine"
   ]
  },
  {
   "cell_type": "code",
   "execution_count": 591,
   "metadata": {},
   "outputs": [],
   "source": [
    "ds_name = 'Wine'\n",
    "out_path = './out_wine/'\n",
    "wine = pd.read_csv(\"data/wine.data\", sep=\",\")\n",
    "wine_X = wine.drop(columns=['Class']).to_numpy()\n",
    "wine_y = wine['Class'].to_numpy()\n",
    "#plot_dataset(wine, attr='Class')\n",
    "\n",
    "#print(\"=== Before pre-process ===\")\n",
    "#describe(wine_X)\n",
    "\n",
    "data_X = normalize(wine_X)\n",
    "#data_X = wine_X\n",
    "data_y = wine_y\n",
    "\n",
    "#print(\"\\n=== After pre-process ===\")\n",
    "#describe(data_X)"
   ]
  },
  {
   "cell_type": "markdown",
   "metadata": {},
   "source": [
    "### Seeds"
   ]
  },
  {
   "cell_type": "code",
   "execution_count": 592,
   "metadata": {},
   "outputs": [],
   "source": [
    "ds_name = 'Seeds'\n",
    "out_path = './out_seeds/'\n",
    "seeds = pd.read_csv(\"data/seeds_dataset.txt\", sep=\"\\t\")\n",
    "seeds_X = seeds.drop(columns=['Class']).to_numpy()\n",
    "seeds_y = seeds['Class'].to_numpy()\n",
    "#plot_dataset(seeds, attr='Class')\n",
    "\n",
    "#print(\"=== Before pre-process ===\")\n",
    "#describe(seeds_X)\n",
    "\n",
    "data_X = normalize(seeds_X)\n",
    "#data_X = seeds_X\n",
    "data_y = seeds_y\n",
    "\n",
    "#print(\"\\n=== After pre-process ===\")\n",
    "#describe(data_X)"
   ]
  },
  {
   "cell_type": "markdown",
   "metadata": {},
   "source": [
    "## Metrics"
   ]
  },
  {
   "cell_type": "code",
   "execution_count": 593,
   "metadata": {},
   "outputs": [],
   "source": [
    "round_precision = 3\n",
    "\n",
    "def get_accuracy(y_real, y_pred):\n",
    "    return round(accuracy_score(y_real, y_pred), round_precision)\n",
    "\n",
    "def get_precision(y_real, y_pred):\n",
    "    return round(precision_score(y_real, y_pred, average='macro'), round_precision)\n",
    "\n",
    "def get_recall(y_real, y_pred):\n",
    "    return round(recall_score(y_real, y_pred, average='macro'), round_precision)\n",
    "\n",
    "def get_FSC(y_real, y_pred):\n",
    "    return round(f1_score(y_real, y_pred, average='macro'), round_precision)\n",
    "\n",
    "def getAllMetrics(y_real, y_pred):\n",
    "    print(\"Accuracy:\", get_accuracy(y_real, y_pred))\n",
    "    print(\"Precision:\", get_precision(y_real, y_pred))\n",
    "    print(\"Recall:\", get_recall(y_real, y_pred))\n",
    "    print(\"F1 score:\", get_FSC(y_real, y_pred))"
   ]
  },
  {
   "cell_type": "markdown",
   "metadata": {},
   "source": [
    "## KNN"
   ]
  },
  {
   "cell_type": "code",
   "execution_count": 594,
   "metadata": {},
   "outputs": [],
   "source": [
    "def knn_for_neighbours(X, y, folds, nb_list):\n",
    "    y_preds = {}\n",
    "    for neighbours in nb_list:\n",
    "        classifier = KNeighborsClassifier(n_neighbors=neighbours)\n",
    "        y_pred = cross_val_predict(classifier, X, y, cv=folds)\n",
    "        y_preds[neighbours] = y_pred\n",
    "    return y_preds"
   ]
  },
  {
   "cell_type": "code",
   "execution_count": 595,
   "metadata": {},
   "outputs": [],
   "source": [
    "def knn_for_params(X, y, classifier, folds):\n",
    "    y_pred = cross_val_predict(classifier, X, y, cv=folds)\n",
    "    return y_pred"
   ]
  },
  {
   "cell_type": "markdown",
   "metadata": {},
   "source": [
    "## Plots"
   ]
  },
  {
   "cell_type": "code",
   "execution_count": 596,
   "metadata": {
    "pycharm": {
     "name": "#%%\n"
    }
   },
   "outputs": [],
   "source": [
    "def bar_plot(name, plot_data, to_file='', show=True, save=False):\n",
    "    bars = plot_data.keys()\n",
    "    height = plot_data.values()\n",
    "    \n",
    "    y_pos = np.arange(len(bars))\n",
    "    plt.ylim(0,1)\n",
    "    plt.title(name)\n",
    "    plt.bar(y_pos, height, color=['red', 'green', 'blue']) # alpha=0.2\n",
    "    plt.xticks(y_pos, bars)\n",
    "    #bars.set_rasterized(True)\n",
    "    \n",
    "    if show:\n",
    "        plt.show()\n",
    "    elif save:\n",
    "        plt.savefig('{}{}_{}.png'.format(out_path, name, to_file), dpi=120)"
   ]
  },
  {
   "cell_type": "markdown",
   "metadata": {
    "pycharm": {
     "name": "#%% md\n"
    }
   },
   "source": [
    "## Experiments"
   ]
  },
  {
   "cell_type": "markdown",
   "metadata": {
    "pycharm": {
     "name": "#%% md\n"
    }
   },
   "source": [
    "### FSC for different number of neighbours"
   ]
  },
  {
   "cell_type": "code",
   "execution_count": 597,
   "metadata": {},
   "outputs": [],
   "source": [
    "fold_nums = [2, 5, 10]\n",
    "nb_list = [1,2,3,4,5,6,8,10,15,20,25,30,35,40]\n",
    "show_plots = False\n",
    "tex = False # if False - readable info"
   ]
  },
  {
   "cell_type": "code",
   "execution_count": 598,
   "metadata": {
    "pycharm": {
     "name": "#%%\n"
    }
   },
   "outputs": [
    {
     "name": "stdout",
     "output_type": "stream",
     "text": [
      "=== K-Fold ===\n",
      "K = 2\n",
      "\tNnum of neighbours = 1 FSC = 0.259\n",
      "\tNnum of neighbours = 2 FSC = 0.248\n",
      "\tNnum of neighbours = 3 FSC = 0.261\n",
      "\tNnum of neighbours = 4 FSC = 0.255\n",
      "\tNnum of neighbours = 5 FSC = 0.27\n",
      "\tNnum of neighbours = 6 FSC = 0.268\n",
      "\tNnum of neighbours = 8 FSC = 0.27\n",
      "\tNnum of neighbours = 10 FSC = 0.27\n",
      "\tNnum of neighbours = 15 FSC = 0.275\n",
      "\tNnum of neighbours = 20 FSC = 0.276\n",
      "\tNnum of neighbours = 25 FSC = 0.279\n",
      "\tNnum of neighbours = 30 FSC = 0.275\n",
      "\tNnum of neighbours = 35 FSC = 0.28\n",
      "\tNnum of neighbours = 40 FSC = 0.284\n",
      "K = 5\n",
      "\tNnum of neighbours = 1 FSC = 0.852\n",
      "\tNnum of neighbours = 2 FSC = 0.826\n",
      "\tNnum of neighbours = 3 FSC = 0.865\n",
      "\tNnum of neighbours = 4 FSC = 0.853\n",
      "\tNnum of neighbours = 5 FSC = 0.87\n",
      "\tNnum of neighbours = 6 FSC = 0.866\n",
      "\tNnum of neighbours = 8 FSC = 0.857\n",
      "\tNnum of neighbours = 10 FSC = 0.847\n",
      "\tNnum of neighbours = 15 FSC = 0.861\n",
      "\tNnum of neighbours = 20 FSC = 0.857\n",
      "\tNnum of neighbours = 25 FSC = 0.833\n",
      "\tNnum of neighbours = 30 FSC = 0.825\n",
      "\tNnum of neighbours = 35 FSC = 0.815\n",
      "\tNnum of neighbours = 40 FSC = 0.791\n",
      "K = 10\n",
      "\tNnum of neighbours = 1 FSC = 0.876\n",
      "\tNnum of neighbours = 2 FSC = 0.845\n",
      "\tNnum of neighbours = 3 FSC = 0.88\n",
      "\tNnum of neighbours = 4 FSC = 0.896\n",
      "\tNnum of neighbours = 5 FSC = 0.89\n",
      "\tNnum of neighbours = 6 FSC = 0.905\n",
      "\tNnum of neighbours = 8 FSC = 0.876\n",
      "\tNnum of neighbours = 10 FSC = 0.885\n",
      "\tNnum of neighbours = 15 FSC = 0.88\n",
      "\tNnum of neighbours = 20 FSC = 0.876\n",
      "\tNnum of neighbours = 25 FSC = 0.876\n",
      "\tNnum of neighbours = 30 FSC = 0.876\n",
      "\tNnum of neighbours = 35 FSC = 0.871\n",
      "\tNnum of neighbours = 40 FSC = 0.867\n"
     ]
    },
    {
     "data": {
      "image/png": "[encoded data removed]",
      "text/plain": [
       "<Figure size 432x288 with 1 Axes>"
      ]
     },
     "metadata": {
      "needs_background": "light"
     },
     "output_type": "display_data"
    }
   ],
   "source": [
    "print(\"=== K-Fold ===\")\n",
    "cross_validator = KFold\n",
    "accs = {}\n",
    "precs = {}\n",
    "recs = {}\n",
    "fscrs = {}\n",
    "\n",
    "for fold_num in fold_nums:\n",
    "    folds = cross_validator(n_splits=fold_num)\n",
    "    y_preds = knn_for_neighbours(data_X, data_y, folds, nb_list)\n",
    "    print('K =', fold_num)\n",
    "    for nbs in nb_list:\n",
    "        accs[nbs] = get_accuracy(data_y, y_preds[nbs])\n",
    "        precs[nbs] = get_precision(data_y, y_preds[nbs])\n",
    "        recs[nbs] = get_recall(data_y, y_preds[nbs])\n",
    "        fscrs[nbs] = get_FSC(data_y, y_preds[nbs])\n",
    "        \n",
    "        if tex:\n",
    "            # to .tex table\n",
    "            print('  ', nbs, '&', accs[nbs], '&', precs[nbs], \\\n",
    "                  '&', recs[nbs], '&', fscrs[nbs], '\\\\\\\\')\n",
    "        else:\n",
    "            print('\\tNnum of neighbours =', nbs, 'FSC =', fscrs[nbs])\n",
    "        \n",
    "    bar_plot('{} - {}-Fold - Accuracy'.format(ds_name, fold_num), accs, to_file='neighs', show=show_plots)\n",
    "    bar_plot('{} - {}-Fold - Precision'.format(ds_name, fold_num), precs, to_file='neighs', show=show_plots)\n",
    "    bar_plot('{} - {}-Fold - Recall'.format(ds_name, fold_num), recs, to_file='neighs', show=show_plots)\n",
    "    bar_plot('{} - {}-Fold - FSC'.format(ds_name, fold_num), fscrs, to_file='neighs', show=show_plots, save=True)"
   ]
  },
  {
   "cell_type": "code",
   "execution_count": 599,
   "metadata": {},
   "outputs": [
    {
     "name": "stdout",
     "output_type": "stream",
     "text": [
      "=== Stratified K-Fold ===\n",
      "K = 2\n",
      "\tNnum of neighbours = 1 FSC = 0.919\n",
      "\tNnum of neighbours = 2 FSC = 0.911\n",
      "\tNnum of neighbours = 3 FSC = 0.919\n",
      "\tNnum of neighbours = 4 FSC = 0.929\n",
      "\tNnum of neighbours = 5 FSC = 0.928\n",
      "\tNnum of neighbours = 6 FSC = 0.919\n",
      "\tNnum of neighbours = 8 FSC = 0.919\n",
      "\tNnum of neighbours = 10 FSC = 0.915\n",
      "\tNnum of neighbours = 15 FSC = 0.914\n",
      "\tNnum of neighbours = 20 FSC = 0.91\n",
      "\tNnum of neighbours = 25 FSC = 0.905\n",
      "\tNnum of neighbours = 30 FSC = 0.901\n",
      "\tNnum of neighbours = 35 FSC = 0.9\n",
      "\tNnum of neighbours = 40 FSC = 0.901\n",
      "K = 5\n",
      "\tNnum of neighbours = 1 FSC = 0.919\n",
      "\tNnum of neighbours = 2 FSC = 0.916\n",
      "\tNnum of neighbours = 3 FSC = 0.913\n",
      "\tNnum of neighbours = 4 FSC = 0.919\n",
      "\tNnum of neighbours = 5 FSC = 0.923\n",
      "\tNnum of neighbours = 6 FSC = 0.929\n",
      "\tNnum of neighbours = 8 FSC = 0.919\n",
      "\tNnum of neighbours = 10 FSC = 0.909\n",
      "\tNnum of neighbours = 15 FSC = 0.919\n",
      "\tNnum of neighbours = 20 FSC = 0.909\n",
      "\tNnum of neighbours = 25 FSC = 0.914\n",
      "\tNnum of neighbours = 30 FSC = 0.905\n",
      "\tNnum of neighbours = 35 FSC = 0.91\n",
      "\tNnum of neighbours = 40 FSC = 0.91\n",
      "K = 10\n",
      "\tNnum of neighbours = 1 FSC = 0.914\n",
      "\tNnum of neighbours = 2 FSC = 0.891\n",
      "\tNnum of neighbours = 3 FSC = 0.918\n",
      "\tNnum of neighbours = 4 FSC = 0.929\n",
      "\tNnum of neighbours = 5 FSC = 0.914\n",
      "\tNnum of neighbours = 6 FSC = 0.928\n",
      "\tNnum of neighbours = 8 FSC = 0.919\n",
      "\tNnum of neighbours = 10 FSC = 0.924\n",
      "\tNnum of neighbours = 15 FSC = 0.914\n",
      "\tNnum of neighbours = 20 FSC = 0.909\n",
      "\tNnum of neighbours = 25 FSC = 0.914\n",
      "\tNnum of neighbours = 30 FSC = 0.905\n",
      "\tNnum of neighbours = 35 FSC = 0.909\n",
      "\tNnum of neighbours = 40 FSC = 0.91\n"
     ]
    },
    {
     "data": {
      "image/png": "[encoded data removed]",
      "text/plain": [
       "<Figure size 432x288 with 1 Axes>"
      ]
     },
     "metadata": {
      "needs_background": "light"
     },
     "output_type": "display_data"
    }
   ],
   "source": [
    "print(\"=== Stratified K-Fold ===\")\n",
    "cross_validator = StratifiedKFold\n",
    "accs = {}\n",
    "precs = {}\n",
    "recs = {}\n",
    "fscrs = {}\n",
    "\n",
    "for fold_num in fold_nums:\n",
    "    folds = cross_validator(n_splits=fold_num)\n",
    "    y_preds = knn_for_neighbours(data_X, data_y, folds, nb_list)\n",
    "    print('K =', fold_num)\n",
    "    for nbs in nb_list:\n",
    "        accs[nbs] = get_accuracy(data_y, y_preds[nbs])\n",
    "        precs[nbs] = get_precision(data_y, y_preds[nbs])\n",
    "        recs[nbs] = get_recall(data_y, y_preds[nbs])\n",
    "        fscrs[nbs] = get_FSC(data_y, y_preds[nbs])\n",
    "        \n",
    "        if tex:\n",
    "            # to .tex table\n",
    "            print('  ', nbs, '&', accs[nbs], '&', precs[nbs], \\\n",
    "                  '&', recs[nbs], '&', fscrs[nbs], '\\\\\\\\')\n",
    "        else:\n",
    "            print('\\tNnum of neighbours =', nbs, 'FSC =', fscrs[nbs])\n",
    "\n",
    "    bar_plot('{} - Stratified {}-Fold - Accuracy'.format(ds_name, fold_num), accs, to_file='neighs', show=show_plots)\n",
    "    bar_plot('{} - Stratified {}-Fold - Precision'.format(ds_name, fold_num), precs, to_file='neighs', show=show_plots)\n",
    "    bar_plot('{} - Stratified {}-Fold - Recall'.format(ds_name, fold_num), recs, to_file='neighs', show=show_plots)\n",
    "    bar_plot('{} - Stratified {}-Fold - FSC'.format(ds_name, fold_num), fscrs, to_file='neighs', show=show_plots, save=True)"
   ]
  },
  {
   "cell_type": "markdown",
   "metadata": {
    "pycharm": {
     "name": "#%% md\n"
    }
   },
   "source": [
    "### FSC for different types of distance calculations"
   ]
  },
  {
   "cell_type": "code",
   "execution_count": 600,
   "metadata": {},
   "outputs": [],
   "source": [
    "fold_nums = [2, 5, 10]\n",
    "dist_metrics = ['manhattan', 'euclidean', 'chebyshev']\n",
    "show_plots = False\n",
    "tex = False # if False - readable info"
   ]
  },
  {
   "cell_type": "code",
   "execution_count": 601,
   "metadata": {
    "pycharm": {
     "name": "#%%\n"
    }
   },
   "outputs": [
    {
     "name": "stdout",
     "output_type": "stream",
     "text": [
      "=== K-Fold ===\n",
      "K = 2\n",
      "\tDistance metric = manhattan FSC = 0.266\n",
      "\tDistance metric = euclidean FSC = 0.27\n",
      "\tDistance metric = chebyshev FSC = 0.289\n",
      "K = 5\n",
      "\tDistance metric = manhattan FSC = 0.838\n",
      "\tDistance metric = euclidean FSC = 0.87\n",
      "\tDistance metric = chebyshev FSC = 0.861\n",
      "K = 10\n",
      "\tDistance metric = manhattan FSC = 0.876\n",
      "\tDistance metric = euclidean FSC = 0.89\n",
      "\tDistance metric = chebyshev FSC = 0.886\n"
     ]
    },
    {
     "data": {
      "image/png": "[encoded data removed]",
      "text/plain": [
       "<Figure size 432x288 with 1 Axes>"
      ]
     },
     "metadata": {
      "needs_background": "light"
     },
     "output_type": "display_data"
    }
   ],
   "source": [
    "print(\"=== K-Fold ===\")\n",
    "cross_validator = KFold\n",
    "accs = {}\n",
    "precs = {}\n",
    "recs = {}\n",
    "fscrs = {}\n",
    "\n",
    "for fold_num in fold_nums:\n",
    "    folds = cross_validator(n_splits=fold_num)\n",
    "    print('K =', fold_num)\n",
    "    for dist_metric in dist_metrics:\n",
    "        classifier = KNeighborsClassifier(metric=dist_metric)\n",
    "        y_pred = knn_for_params(data_X, data_y, classifier, folds)\n",
    "        \n",
    "        accs[dist_metric] = get_accuracy(data_y, y_pred)\n",
    "        precs[dist_metric] = get_precision(data_y, y_pred)\n",
    "        recs[dist_metric] = get_recall(data_y, y_pred)\n",
    "        fscrs[dist_metric] = get_FSC(data_y, y_pred)\n",
    "        \n",
    "        if tex:\n",
    "            # to .tex table\n",
    "            print('  ', dist_metric, '&', accs[dist_metric], '&', precs[dist_metric], \\\n",
    "                  '&', recs[dist_metric], '&', fscrs[dist_metric], '\\\\\\\\')\n",
    "        else:\n",
    "            print('\\tDistance metric =', dist_metric, 'FSC =', fscrs[dist_metric])\n",
    "\n",
    "    bar_plot('{} - {}-Fold - Accuracy'.format(ds_name, fold_num), accs, to_file='distance', show=show_plots)\n",
    "    bar_plot('{} - {}-Fold - Precision'.format(ds_name, fold_num), precs, to_file='distance', show=show_plots)\n",
    "    bar_plot('{} - {}-Fold - Recall'.format(ds_name, fold_num), recs, to_file='distance', show=show_plots)\n",
    "    bar_plot('{} - {}-Fold - FSC'.format(ds_name, fold_num), fscrs, to_file='distance', show=show_plots, save=True)"
   ]
  },
  {
   "cell_type": "code",
   "execution_count": 602,
   "metadata": {
    "scrolled": true
   },
   "outputs": [
    {
     "name": "stdout",
     "output_type": "stream",
     "text": [
      "=== Stratified K-Fold ===\n",
      "K = 2\n",
      "\tDistance metric = manhattan FSC = 0.914\n",
      "\tDistance metric = euclidean FSC = 0.928\n",
      "\tDistance metric = chebyshev FSC = 0.919\n",
      "K = 5\n",
      "\tDistance metric = manhattan FSC = 0.9\n",
      "\tDistance metric = euclidean FSC = 0.923\n",
      "\tDistance metric = chebyshev FSC = 0.914\n",
      "K = 10\n",
      "\tDistance metric = manhattan FSC = 0.904\n",
      "\tDistance metric = euclidean FSC = 0.914\n",
      "\tDistance metric = chebyshev FSC = 0.929\n"
     ]
    },
    {
     "data": {
      "image/png": "[encoded data removed]",
      "text/plain": [
       "<Figure size 432x288 with 1 Axes>"
      ]
     },
     "metadata": {
      "needs_background": "light"
     },
     "output_type": "display_data"
    }
   ],
   "source": [
    "print(\"=== Stratified K-Fold ===\")\n",
    "cross_validator = StratifiedKFold\n",
    "accs = {}\n",
    "precs = {}\n",
    "recs = {}\n",
    "fscrs = {}\n",
    "\n",
    "for fold_num in fold_nums:\n",
    "    folds = cross_validator(n_splits=fold_num)\n",
    "    print('K =', fold_num)\n",
    "    for dist_metric in dist_metrics:\n",
    "        classifier = KNeighborsClassifier(metric=dist_metric)\n",
    "        y_pred = knn_for_params(data_X, data_y, classifier, folds)\n",
    "        \n",
    "        accs[dist_metric] = get_accuracy(data_y, y_pred)\n",
    "        precs[dist_metric] = get_precision(data_y, y_pred)\n",
    "        recs[dist_metric] = get_recall(data_y, y_pred)\n",
    "        fscrs[dist_metric] = get_FSC(data_y, y_pred)\n",
    "        \n",
    "        if tex:\n",
    "            # to .tex table\n",
    "            print('  ', dist_metric, '&', accs[dist_metric], '&', precs[dist_metric], \\\n",
    "                  '&', recs[dist_metric], '&', fscrs[dist_metric], '\\\\\\\\')\n",
    "        else:\n",
    "            print('\\tDistance metric =', dist_metric, 'FSC =', fscrs[dist_metric])\n",
    "        \n",
    "    bar_plot('{} - Stratified {}-Fold - Accuracy'.format(ds_name, fold_num), accs, to_file='distance', show=show_plots)\n",
    "    bar_plot('{} - Stratified {}-Fold - Precision'.format(ds_name, fold_num), precs, to_file='distance', show=show_plots)\n",
    "    bar_plot('{} - Stratified {}-Fold - Recall'.format(ds_name, fold_num), recs, to_file='distance', show=show_plots)\n",
    "    bar_plot('{} - Stratified {}-Fold - FSC'.format(ds_name, fold_num), fscrs, to_file='distance', show=show_plots, save=True)"
   ]
  },
  {
   "cell_type": "markdown",
   "metadata": {
    "pycharm": {
     "name": "#%% md\n"
    }
   },
   "source": [
    "### FSC for different vote schemes"
   ]
  },
  {
   "cell_type": "code",
   "execution_count": 603,
   "metadata": {},
   "outputs": [],
   "source": [
    "fold_nums = [2, 5, 10]\n",
    "vote_schemes = ['distance', 'uniform', 'random']\n",
    "show_plots = False\n",
    "tex = False # if False - readable info\n",
    "\n",
    "def random_vs(distance):\n",
    "    return np.random.normal(size=distance.shape)"
   ]
  },
  {
   "cell_type": "code",
   "execution_count": 604,
   "metadata": {
    "pycharm": {
     "name": "#%%\n"
    }
   },
   "outputs": [
    {
     "name": "stdout",
     "output_type": "stream",
     "text": [
      "=== K-Fold ===\n",
      "K = 2\n",
      "\tVote scheme = distance FSC = 0.27\n",
      "\tVote scheme = uniform FSC = 0.27\n",
      "\tVote scheme = random FSC = 0.198\n",
      "K = 5\n",
      "\tVote scheme = distance FSC = 0.865\n",
      "\tVote scheme = uniform FSC = 0.87\n",
      "\tVote scheme = random FSC = 0.582\n",
      "K = 10\n",
      "\tVote scheme = distance FSC = 0.885\n",
      "\tVote scheme = uniform FSC = 0.89\n",
      "\tVote scheme = random FSC = 0.586\n"
     ]
    },
    {
     "data": {
      "image/png": "[encoded data removed]",
      "text/plain": [
       "<Figure size 432x288 with 1 Axes>"
      ]
     },
     "metadata": {
      "needs_background": "light"
     },
     "output_type": "display_data"
    }
   ],
   "source": [
    "print(\"=== K-Fold ===\")\n",
    "cross_validator = KFold\n",
    "accs = {}\n",
    "precs = {}\n",
    "recs = {}\n",
    "fscrs = {}\n",
    "\n",
    "for fold_num in fold_nums:\n",
    "    folds = cross_validator(n_splits=fold_num)\n",
    "    print('K =', fold_num)\n",
    "    for vote_scheme in vote_schemes:\n",
    "        if vote_scheme == 'random':\n",
    "            classifier = KNeighborsClassifier(weights=random_vs)\n",
    "        else:\n",
    "            classifier = KNeighborsClassifier(weights=vote_scheme)\n",
    "        y_pred = knn_for_params(data_X, data_y, classifier, folds)\n",
    "        \n",
    "        accs[vote_scheme] = get_accuracy(data_y, y_pred)\n",
    "        precs[vote_scheme] = get_precision(data_y, y_pred)\n",
    "        recs[vote_scheme] = get_recall(data_y, y_pred)\n",
    "        fscrs[vote_scheme] = get_FSC(data_y, y_pred)\n",
    "        \n",
    "        if tex:\n",
    "            # to .tex table\n",
    "            print('  ', vote_scheme, '&', accs[vote_scheme], '&', precs[vote_scheme], \\\n",
    "                  '&', recs[vote_scheme], '&', fscrs[vote_scheme], '\\\\\\\\')\n",
    "        else:\n",
    "            print('\\tVote scheme =', vote_scheme, 'FSC =', fscrs[vote_scheme])\n",
    "        \n",
    "    bar_plot('{} - {}-Fold - Accuracy'.format(ds_name, fold_num), accs, to_file='vote', show=show_plots)\n",
    "    bar_plot('{} - {}-Fold - Precision'.format(ds_name, fold_num), precs, to_file='vote', show=show_plots)\n",
    "    bar_plot('{} - {}-Fold - Recall'.format(ds_name, fold_num), recs, to_file='vote', show=show_plots)\n",
    "    bar_plot('{} - {}-Fold - FSC'.format(ds_name, fold_num), fscrs, to_file='vote', show=show_plots, save=True)"
   ]
  },
  {
   "cell_type": "code",
   "execution_count": 605,
   "metadata": {
    "pycharm": {
     "name": "#%%\n"
    }
   },
   "outputs": [
    {
     "name": "stdout",
     "output_type": "stream",
     "text": [
      "=== Stratified K-Fold ===\n",
      "K = 2\n",
      "\tVote scheme = distance FSC = 0.928\n",
      "\tVote scheme = uniform FSC = 0.928\n",
      "\tVote scheme = random FSC = 0.642\n",
      "K = 5\n",
      "\tVote scheme = distance FSC = 0.918\n",
      "\tVote scheme = uniform FSC = 0.923\n",
      "\tVote scheme = random FSC = 0.65\n",
      "K = 10\n",
      "\tVote scheme = distance FSC = 0.909\n",
      "\tVote scheme = uniform FSC = 0.914\n",
      "\tVote scheme = random FSC = 0.618\n"
     ]
    },
    {
     "data": {
      "image/png": "[encoded data removed]",
      "text/plain": [
       "<Figure size 432x288 with 1 Axes>"
      ]
     },
     "metadata": {
      "needs_background": "light"
     },
     "output_type": "display_data"
    }
   ],
   "source": [
    "print(\"=== Stratified K-Fold ===\")\n",
    "cross_validator = StratifiedKFold\n",
    "accs = {}\n",
    "precs = {}\n",
    "recs = {}\n",
    "fscrs = {}\n",
    "\n",
    "for fold_num in fold_nums:\n",
    "    folds = cross_validator(n_splits=fold_num)\n",
    "    print('K =', fold_num)\n",
    "    for vote_scheme in vote_schemes:\n",
    "        if vote_scheme == 'random':\n",
    "            classifier = KNeighborsClassifier(weights=random_vs)\n",
    "        else:\n",
    "            classifier = KNeighborsClassifier(weights=vote_scheme)\n",
    "        y_pred = knn_for_params(data_X, data_y, classifier, folds)\n",
    "        \n",
    "        accs[vote_scheme] = get_accuracy(data_y, y_pred)\n",
    "        precs[vote_scheme] = get_precision(data_y, y_pred)\n",
    "        recs[vote_scheme] = get_recall(data_y, y_pred)\n",
    "        fscrs[vote_scheme] = get_FSC(data_y, y_pred)\n",
    "        \n",
    "        if tex:\n",
    "            # to .tex table\n",
    "            print('  ', vote_scheme, '&', accs[vote_scheme], '&', precs[vote_scheme], \\\n",
    "                  '&', recs[vote_scheme], '&', fscrs[vote_scheme], '\\\\\\\\')\n",
    "        else:\n",
    "            print('\\tVote scheme =', vote_scheme, 'FSC =', fscrs[vote_scheme])\n",
    "        \n",
    "    bar_plot('{} - Stratified {}-Fold - Accuracy'.format(ds_name, fold_num), accs, to_file='vote', show=show_plots)\n",
    "    bar_plot('{} - Stratified {}-Fold - Precision'.format(ds_name, fold_num), precs, to_file='vote', show=show_plots)\n",
    "    bar_plot('{} - Stratified {}-Fold - Recall'.format(ds_name, fold_num), recs, to_file='vote', show=show_plots)\n",
    "    bar_plot('{} - Stratified {}-Fold - FSC'.format(ds_name, fold_num), fscrs, to_file='vote', show=show_plots, save=True)"
   ]
  },
  {
   "cell_type": "code",
   "execution_count": 606,
   "metadata": {
    "pycharm": {
     "name": "#%%\n"
    }
   },
   "outputs": [
    {
     "data": {
      "text/plain": [
       "'Seeds'"
      ]
     },
     "execution_count": 606,
     "metadata": {},
     "output_type": "execute_result"
    }
   ],
   "source": [
    "ds_name"
   ]
  },
  {
   "cell_type": "code",
   "execution_count": null,
   "metadata": {},
   "outputs": [],
   "source": []
  }
 ],
 "metadata": {
  "kernelspec": {
   "display_name": "Python 3",
   "language": "python",
   "name": "python3"
  },
  "language_info": {
   "codemirror_mode": {
    "name": "ipython",
    "version": 3
   },
   "file_extension": ".py",
   "mimetype": "text/x-python",
   "name": "python",
   "nbconvert_exporter": "python",
   "pygments_lexer": "ipython3",
   "version": "3.7.7"
  },
  "pycharm": {
   "stem_cell": {
    "cell_type": "raw",
    "metadata": {
     "collapsed": false
    },
    "source": []
   }
  }
 },
 "nbformat": 4,
 "nbformat_minor": 1
}
